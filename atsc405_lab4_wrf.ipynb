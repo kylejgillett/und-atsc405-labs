{
 "cells": [
  {
   "cell_type": "markdown",
   "metadata": {
    "id": "l4jFE6rDLVbv"
   },
   "source": [
    "<br>\n",
    "\n",
    "# **ATSC-405 - NUMERICAL METHODS IN METEOROLOGY | LAB 4 | WRF**\n",
    "\n",
    "--------\n",
    "\n",
    "## **Objectives**: Learn to run the WRF model, load data from different netcdf files, and examine WRF output in Python.\n",
    "\n",
    "<br>\n",
    "\n",
    "The goal of the *WRF portion* of this lab assignment is for you to become familiar with running the Weather Research and Forecasting (WRF) model on the NCAR Derecho Supercomputer along with analyzing resultant model output in Python. You will be comparing and contrasting the WRF model simulation of the 12-13 April 2022 Upper Midwest/Northern Great Plains blizzard and severe weather event that we explored in Lab 2 with a sensitivity WRF model simulation of the same event, but with a different physical-process parameterization scheme of your choosing.\n",
    "\n",
    "<br>\n",
    "\n",
    "\n",
    "- #### **PART 1**: Analyze model reflectivity output & wind at a single time\n",
    "- #### **PART 2**: Analyze and compare WRF output vertical profiles\n",
    "- #### **PART 3**: Analyze and compare total rainfall accumulation\n",
    "- #### **PART 4**: Analyze and compare total snowfall accumulation\n",
    "- #### **PART 5**: Analyze model reflectivity that may depict lateral boundary conditions or artifacts\n",
    "\n",
    "\n",
    "<br>\n",
    "\n",
    "Carefully read through and run each cell below. Some cells will require editing to successfully run and complete the lab.\n",
    "\n",
    "<br>\n",
    "\n",
    "*(C) Jordan Christian (jordan.christian@und.edu), Kyle Gillett (kyle.gillett@und.edu) 2024*"
   ]
  },
  {
   "cell_type": "markdown",
   "metadata": {
    "id": "Y19bW5HCNbPY"
   },
   "source": [
    "-----\n",
    "<br>\n",
    "<br>\n",
    "<br>\n",
    "<br>\n",
    "<br>\n",
    "\n",
    "## **IMPORT SOFTWARE PACKAGES**\n",
    "\n",
    "Run this cell to import Python code packages that will help us load some data, process the data, conduct math operations, and build some maps."
   ]
  },
  {
   "cell_type": "code",
   "execution_count": null,
   "metadata": {
    "colab": {
     "base_uri": "https://localhost:8080/"
    },
    "executionInfo": {
     "elapsed": 18623,
     "status": "ok",
     "timestamp": 1729137015515,
     "user": {
      "displayName": "Jordan Christian",
      "userId": "12019586473093011462"
     },
     "user_tz": 300
    },
    "id": "JvGRMsHKvdpP",
    "outputId": "03e28993-74d4-4abe-f64c-ebe56f7dceb0"
   },
   "outputs": [],
   "source": [
    "!pip install sounderpy\n",
    "\n",
    "import sounderpy as spy             # Sounding data retrieval and analysis tool for Python\n",
    "from sounderpy_wrf_module import make_wrf_profile # WRF output analysis module for SounderPy\n",
    "import numpy as np                  # simple python math operations\n",
    "import cartopy.crs as ccrs          # cartopy coordinate refrence system, from cartopy, for mapping -- to turn a matplotlib axis into a geoaxis (map)\n",
    "import cartopy.feature as cfeature  # cartopy features, from cartopy, for mapping -- add map components to a map (borders, states, oceans, rivers, etc)\n",
    "import matplotlib.pyplot as plt     # matplotlib for plotting figures, axes, graphs, etc\n",
    "import metpy.calc as mpcalc         # metpy.calc provides a number of simple meteorological equations for computing variables\n",
    "import scipy.ndimage as ndimage     # scipy ndimage data filtering/smoothing -- make the data 'prettier'\n",
    "import netCDF4                      # netCDF4 allows us to neatly access and store .netcdf file data"
   ]
  },
  {
   "cell_type": "markdown",
   "metadata": {
    "id": "mvVdGSR3uate"
   },
   "source": [
    "-----\n",
    "<br>\n",
    "<br>\n",
    "<br>\n",
    "<br>\n",
    "<br>\n",
    "\n",
    "## **LOADING WRF OUTPUT WITH NETCDF4**\n",
    "\n",
    "We've done this many times before -- load WRF output .nc (netCDF) files from our directory into a netcdf4 dataset so we can access and process the data with Python...\n",
    "\n",
    "  - declaring the filename -- ex: ` file = \"wrfout.nc\"`\n",
    "  - opening the filename with netCDF4 -- ex: ` dataset = netCDF4.Dataset(file)`\n",
    "\n",
    "  <br>"
   ]
  },
  {
   "cell_type": "code",
   "execution_count": null,
   "metadata": {
    "executionInfo": {
     "elapsed": 1662,
     "status": "ok",
     "timestamp": 1729137023319,
     "user": {
      "displayName": "Jordan Christian",
      "userId": "12019586473093011462"
     },
     "user_tz": 300
    },
    "id": "NDXVBedJGS48"
   },
   "outputs": [],
   "source": [
    "control_run_file  = 'wrfout_d01_2022-04-13_00_00_00_control_run'\n",
    "sens_run_file = ?\n",
    "\n",
    "control_run_ds = netCDF4.Dataset(?)\n",
    "sens_run_ds = ?"
   ]
  },
  {
   "cell_type": "markdown",
   "metadata": {
    "id": "02qeTx8YuVkn"
   },
   "source": [
    "-----\n",
    "<br>\n",
    "<br>\n",
    "<br>\n",
    "<br>\n",
    "<br>\n",
    "\n",
    "## **PART 1 | Lowest model reflectivity, 10m wind, and sounding locations**\n",
    "\n",
    "Using the code we've used to build maps in previous labs, create a simple side-by-side figure of lowest model relfectivity and 10m horizontal winds for both simulations. On each map, plot a point of your choice of where you will plot a sounding in part 2.\n",
    "\n",
    "+ **HINTS**\n",
    "  - Refer to lab 2 and lab 3 for investigating the dataset and variables|\n",
    "  - Refer to lab 2 and lab 3 for plotting data on a map.\n",
    "  - To plot a point, use... `.plot(lon, lat, 'kP', markersize=20, transform=ccrs.PlateCarree(), zorder=12)`\n",
    "\n",
    "\n",
    "+ **RECALL**\n",
    "  - Plot reflectivity with `.pcolormesh()`\n",
    "  - Plot wind barbs with `.barbs()`\n",
    "  - Create a title for each subplot with `.set_title()`\n",
    "\n",
    "+ **STEPS** *(the code block below should be structured like this)*\n",
    "  1. Define variables needed for the plot...\n",
    "    - the data to plot\n",
    "    - the x coordinate (longitude)\n",
    "    - the y coordinate (latitude)\n",
    "  2. Create a colormap for reflectivity\n",
    "  3. Use the `build_figure()` function\n",
    "  4. Plot everything for the first subplot (control)\n",
    "  5. Plot everything for the second subplot (sensitivity)\n",
    "  - **ALSO** - don't forget to plot the sounding locations!\n",
    "\n",
    "<br>\n",
    "\n",
    "Run the cell below to create the `build_figure()` function we'll need to create side-by-side map figures\n"
   ]
  },
  {
   "cell_type": "code",
   "execution_count": null,
   "metadata": {
    "executionInfo": {
     "elapsed": 161,
     "status": "ok",
     "timestamp": 1729137062303,
     "user": {
      "displayName": "Jordan Christian",
      "userId": "12019586473093011462"
     },
     "user_tz": 300
    },
    "id": "4mFQdZE42ViR"
   },
   "outputs": [],
   "source": [
    "# define the `build_map()` function. Changable-variables are `extent` (lat/lon bounds)\n",
    "def build_figure(extent=[-105, -91, 36, 52]):\n",
    "\n",
    "    # create figure and geoaxis | a 'geoaxis' is a normal matplotlib axis object, but providing the `projection` kwarg makes it a `geoaxis`!\n",
    "    # the 'projection' is simply a mapping projection (LamertConformal, PlatteCarree, etc)\n",
    "    fig, axs = plt.subplots(1, 2, figsize=(22, 10), subplot_kw={'projection': ccrs.LambertConformal(central_longitude=-98.0)})\n",
    "\n",
    "    # flatten the axes array for easy 'looping' below\n",
    "    axs = axs.flatten()\n",
    "\n",
    "    # loop over each axis\n",
    "    for ax in axs:\n",
    "      # apply the map extent (lat/lon bounding box)\n",
    "      ax.set_extent(extent)\n",
    "      # axis aspect ratio\n",
    "      ax.set_box_aspect(1)\n",
    "      # state boarders\n",
    "      ax.add_feature(cfeature.STATES, edgecolor='black', alpha=1, linestyle='-', linewidth=1, zorder=10)\n",
    "      # land color fill\n",
    "      ax.add_feature(cfeature.LAND, facecolor='gray', alpha=0.5, zorder=1)\n",
    "      # ocean color fill\n",
    "      ax.add_feature(cfeature.OCEAN, facecolor='gray', alpha=0.8, zorder=0)\n",
    "      # country borders\n",
    "      ax.add_feature(cfeature.BORDERS, color='black', alpha=1, linestyle='-', linewidth=2, zorder=11)\n",
    "\n",
    "    # apply tight layout to the figure (keeps things tiddy)\n",
    "    plt.tight_layout()\n",
    "\n",
    "    # return the figure axis\n",
    "    return fig, axs"
   ]
  },
  {
   "cell_type": "markdown",
   "metadata": {
    "id": "mm5RpY5aRekd"
   },
   "source": [
    "<br>\n",
    "<br>\n",
    "\n",
    "##### **Build your figure below**\n",
    "\n",
    "<br>"
   ]
  },
  {
   "cell_type": "code",
   "execution_count": null,
   "metadata": {
    "colab": {
     "base_uri": "https://localhost:8080/",
     "height": 776
    },
    "executionInfo": {
     "elapsed": 3430,
     "status": "ok",
     "timestamp": 1729137837017,
     "user": {
      "displayName": "Jordan Christian",
      "userId": "12019586473093011462"
     },
     "user_tz": 300
    },
    "id": "A2H-vdY62wr5",
    "outputId": "86af036c-383e-4bff-8847-429482f7f42a"
   },
   "outputs": [],
   "source": [
    "###################################################################################\n",
    "# STEP 1 DECLARE THE VARIABLES WE NEED\n",
    "\n",
    "# ---- CONTROL SIMULATION ---- #\n",
    "# create lat (XLAT), lon (XLONG), reflectivity (REFL_10CM),\n",
    "# 10 meter u wind (U10) & 10 meter v wind (V10) variables\n",
    "control_lats = control_run_ds[?][0,:,:]\n",
    "control_lons = control_run_ds[?][0,:,:]\n",
    "control_reflect = control_run_ds[?][0,0,:,:]\n",
    "control_uwind = control_run_ds[?][0,:,:]\n",
    "control_vwind = control_run_ds[?][0,:,:]\n",
    "\n",
    "# Set reflectivity values below 10 to a NaN value (Not a Number) to clean up figures\n",
    "control_reflect[control_reflect < 10] = np.NAN\n",
    "\n",
    "\n",
    "# ---- SENSITIVITY RUN SIMULATION ---- #\n",
    "# create lat (XLAT), lon (XLONG), reflectivity (REFL_10CM),\n",
    "# 10 meter u wind (U10) & 10 meter v wind (V10) variables\n",
    "sens_lats = ?\n",
    "sens_lons = ?\n",
    "sens_reflect = ?\n",
    "sens_uwind = ?\n",
    "sens_vwind = ?\n",
    "\n",
    "# Set reflectivity values below 10 to a NaN value (Not a Number) to clean up figures\n",
    "sensitive_reflect[sensitive_reflect < 10] = np.NAN\n",
    "###################################################################################\n",
    "\n",
    "\n",
    "###################################################################################\n",
    "# STEP 2 | CREATE REFLECTIVITY COLORMAP\n",
    "\n",
    "# create colormap for radar\n",
    "# this colormap was made in Lab 3 and Lab 4 part 1\n",
    "# use code from Lab 3 or Lab 4 part 1 to set your radar colormap (radar_cmap)\n",
    "from matplotlib.colors import LinearSegmentedColormap\n",
    "radar_cmap = ?\n",
    "###################################################################################\n",
    "\n",
    "\n",
    "###################################################################################\n",
    "# STEP 3 | USE BUILD MAP FUNCTION\n",
    "fig, axs = build_figure()\n",
    "###################################################################################\n",
    "\n",
    "\n",
    "###################################################################################\n",
    "# STEP 4 | PLOT DATA FOR SUBPLOT 1\n",
    "\n",
    "# ---- CONTROL SIMULATION ---- #\n",
    "# plot radar pcolormesh\n",
    "pmesh1 = axs[0].pcolormesh(?, ?, ?, vmin=10, vmax=75,\n",
    "                          cmap=radar_cmap, alpha=1,\n",
    "                           zorder=4, transform=ccrs.PlateCarree())\n",
    "cbar = plt.colorbar(pmesh1, aspect=50, fraction=0.02, ax=axs[0], orientation='vertical', pad=0.02)\n",
    "\n",
    "\n",
    "# plot 10m wind barbs\n",
    "every = 20\n",
    "axs[0].barbs(control_lons[0::every, 0::every], control_lats[0::every, 0::every],\n",
    "                control_uwind[0::every, 0::every], control_vwind[0::every, 0::every],\n",
    "                length=5.5, alpha=0.6, transform=ccrs.PlateCarree(), zorder=11)\n",
    "\n",
    "# plot a sounding marker ax.plot(lon,lat,'kP',...)\n",
    "# plot a '+' symbol at -94 degrees longitude and 41 degrees latitude\n",
    "axs[0].plot(?, ?, 'kP', markersize=15, transform=ccrs.PlateCarree(), zorder=12)\n",
    "\n",
    "# add a plot title\n",
    "axs[0].set_title(?, fontsize=12, weight='bold')\n",
    "###################################################################################\n",
    "\n",
    "\n",
    "###################################################################################\n",
    "# STEP 5 | PLOT DATA FOR SUBPLOT 2\n",
    "\n",
    "# ---- SENSITIVITY RUN SIMULATION ---- #\n",
    "# plot radar pcolormesh\n",
    "\n",
    "# plot 10m wind barbs\n",
    "\n",
    "# plot a '+' symbol at -94 degrees longitude and 41 degrees latitude\n",
    "\n",
    "# add a plot title\n",
    "\n",
    "###################################################################################\n"
   ]
  },
  {
   "cell_type": "markdown",
   "metadata": {
    "id": "bAfvPiBjOSnL"
   },
   "source": [
    "-----\n",
    "<br>\n",
    "<br>\n",
    "<br>\n",
    "<br>\n",
    "<br>\n",
    "\n",
    "## **PART 2 | Plotting and comparing model soundings**\n",
    "\n",
    "##### **PLOTTING SOUNDINGS IN PYTHON**\n",
    "\n",
    "- There are many ways this can be done. After all, it is just a x-y chart. You could make this by hand, \"skewing\" the temperature axis and \"log-ing\" the pressure axis.\n",
    "\n",
    "- MetPy also has basic skew-T and hodograph axis objects for easy skew-t plotting.\n",
    "\n",
    "- Or, for a full sounding plot including both a Skew-T and hodograph (plus lots more), we can use **SounderPy**. Sounderpy is a Python library specifically designed to process and plot sounding data. Learn more about SounderPy here: https://kylejgillett.github.io/sounderpy/\n",
    "\n",
    "<br>\n",
    "\n",
    "\n",
    "##### **PLOTTING A BASIC SOUNDERPY SOUNDING**\n",
    "\n",
    "- Creating a Sounding with SounderPy requires two steps...\n",
    "  1. Loading or manually creating a \"clean_data\" dictionary of vertical data such as pressure, temperature, height, u & v, etc\n",
    "    - Here we have to manually create this dictionary. This process is a bit complicated and beyond the scope of this class, so its completed for you in the `sounderpy_wrf_module.py` file. We encourage you to peak at it, but you don't need to do anything to it. Just run the `make_wrf_profile` function.\n",
    "  2. Passing that dictionary into SounderPy's `.build_sounding()` function.\n",
    "\n",
    "<br>\n",
    "\n",
    "Lets make a basic sounding below. To create a `clean_data` dictionary, use...\n",
    "  - `make_wrf_profile(dataset, [latitude, longitude])`\n",
    "    - where \"dataset\" is your control or sensitivity dataset name and \"latitude\" and \"longitude\" is lat/lon point of your sounding (in [ ]!)\n",
    "\n",
    "<br>"
   ]
  },
  {
   "cell_type": "code",
   "execution_count": null,
   "metadata": {
    "colab": {
     "base_uri": "https://localhost:8080/",
     "height": 1000
    },
    "executionInfo": {
     "elapsed": 10117,
     "status": "ok",
     "timestamp": 1729137871374,
     "user": {
      "displayName": "Jordan Christian",
      "userId": "12019586473093011462"
     },
     "user_tz": 300
    },
    "id": "jzcslyemGUEc",
    "outputId": "ff146f51-ab2b-437b-98e0-b0834bb5c83a"
   },
   "outputs": [],
   "source": [
    "# Build a SounderPy 'clean_data' dictionary of WRF output to plot a sounding.\n",
    "# Plot sounding location at 41 degrees latitude and -94 degrees longitude\n",
    "clean_data = make_wrf_profile(control_run_ds, [?, ?])\n",
    "\n",
    "# Now, pass the 'clean_data' dictionary into the SounderPy `build_sounding` function\n",
    "spy.build_sounding(clean_data, special_parcels='simple')"
   ]
  },
  {
   "cell_type": "markdown",
   "metadata": {
    "id": "Xl_iLoxDN1pP"
   },
   "source": [
    "<br>\n",
    "<br>\n",
    "\n",
    "\n",
    "##### **PLOTTING A SOUNDERPY COMPARISON SOUNDING**\n",
    "\n",
    "- Now we can create a sounding figure with multiple profiles using Sounderpy's `build_composite()` function, specifically designed to plot multiple profiles at once for comparison.\n",
    "\n",
    "<br>\n",
    "\n",
    "To do so...\n",
    "  1. Create a 'clean_data' dictionary of data for both the control run and sensitivity run\n",
    "  2. Add those variables to a list and pass it into the `build_composite()` function\n",
    "\n",
    "<br>"
   ]
  },
  {
   "cell_type": "code",
   "execution_count": null,
   "metadata": {
    "colab": {
     "base_uri": "https://localhost:8080/",
     "height": 967
    },
    "executionInfo": {
     "elapsed": 1851,
     "status": "ok",
     "timestamp": 1729137873223,
     "user": {
      "displayName": "Jordan Christian",
      "userId": "12019586473093011462"
     },
     "user_tz": 300
    },
    "id": "FhmxNoliHXXP",
    "outputId": "5e7aceb6-96f7-463c-fe8f-010261f1b149"
   },
   "outputs": [],
   "source": [
    "# create dictionaries of data\n",
    "# plot sounding location at 41 degrees latitude and -94 degrees longitude\n",
    "control_run_profile   = make_wrf_profile(control_run_ds, [?, ?], run_name='?')\n",
    "sens_run_profile = make_wrf_profile(?)\n",
    "\n",
    "# add them to a list\n",
    "data_list = [control_run_profile, sens_run_profile]\n",
    "\n",
    "# build the sounding with a few extra settings to make a nice plot\n",
    "spy.build_composite(data_list, colors_to_use=['firebrick', 'cyan'], lw_to_use=[4,4], dark_mode=True)"
   ]
  },
  {
   "cell_type": "markdown",
   "metadata": {
    "id": "6ZvuCJYkSfXM"
   },
   "source": [
    "-----\n",
    "<br>\n",
    "<br>\n",
    "<br>\n",
    "<br>\n",
    "<br>\n",
    "\n",
    "## **PART 3 | Comparing rainfall accumulation output**\n",
    "\n",
    "Using any code from previous labs and our maps above, create a side-by-side map figure of rainfall accumulation for both runs.\n",
    "\n",
    "Hint: use the `build_figure()` function again\n",
    "\n",
    "<br>"
   ]
  },
  {
   "cell_type": "code",
   "execution_count": null,
   "metadata": {
    "colab": {
     "base_uri": "https://localhost:8080/",
     "height": 773
    },
    "executionInfo": {
     "elapsed": 3985,
     "status": "ok",
     "timestamp": 1729138340362,
     "user": {
      "displayName": "Jordan Christian",
      "userId": "12019586473093011462"
     },
     "user_tz": 300
    },
    "id": "a96_WVNmIQGv",
    "outputId": "d75a9cdf-9aee-488c-ce98-2c53d6c61b14"
   },
   "outputs": [],
   "source": [
    "###################################################################################\n",
    "# STEP 1 DECLARE THE VARIABLES WE NEED\n",
    "\n",
    "# ---- CONTROL SIMULATION ---- #\n",
    "control_lats = ?\n",
    "control_lons = ?\n",
    "# Add RAINNC with RAINC to get total precipitation\n",
    "control_total_precip = control_run_ds[?][0,:,:] + control_run_ds[?][0,:,:]\n",
    "\n",
    "# ---- SENSITIVITY SIMULATION ---- #\n",
    "sens_lats = ?\n",
    "sens_lons = ?\n",
    "sens_total_precip = ?\n",
    "###################################################################################\n",
    "\n",
    "\n",
    "###################################################################################\n",
    "# CREATE A RAINFALL COLORMAP\n",
    "from matplotlib.colors import LinearSegmentedColormap\n",
    "precip_cmap  = LinearSegmentedColormap.from_list('custom_cmap',['#FFFFFF','#2FFFB8','#7FFF00','#00CD00','#008B00','#104E8B','#1E90FF',\n",
    "                                                              '#00B2EE','#00EEEE','#8968CD','#912CEE','#8B008B', '#8B0000',\n",
    "                                                              '#CD0000','#EE4000', '#FF7F00', '#CD8500', '#FFD700', '#FFFF00',\n",
    "                                                              '#FFAEB9'],N=256)\n",
    "###################################################################################\n",
    "\n",
    "\n",
    "###################################################################################\n",
    "# USE BUILD FIGURE FUNCTION\n",
    "fig, axs = ?\n",
    "###################################################################################\n",
    "\n",
    "\n",
    "###################################################################################\n",
    "# PLOT DATA FOR SUBPLOT 1\n",
    "# ---- CONTROL SIMULATION ---- #\n",
    "# plot rainfall pcolormesh\n",
    "pmesh1 = axs[0].pcolormesh(?, ?, ?, vmin=0, vmax=205, cmap=precip_cmap,\n",
    "                           alpha=1, zorder=4, transform=ccrs.PlateCarree())\n",
    "cbar = plt.colorbar(pmesh1, aspect=50, fraction=0.02, ax=axs[0], orientation='vertical', pad=0.02)\n",
    "\n",
    "# add a plot title\n",
    "axs[0].set_title('?', fontsize=12, weight='bold')\n",
    "###################################################################################\n",
    "\n",
    "\n",
    "###################################################################################\n",
    "# PLOT DATA FOR SUBPLOT 2\n",
    "# ---- SENSITIVITY SIMULATION ---- #\n",
    "# plot rainfall pcolormesh\n",
    "\n",
    "# add a plot title\n",
    "\n",
    "###################################################################################"
   ]
  },
  {
   "cell_type": "markdown",
   "metadata": {
    "id": "Eqa0nFRbWwX1"
   },
   "source": [
    "-----\n",
    "<br>\n",
    "<br>\n",
    "<br>\n",
    "<br>\n",
    "<br>\n",
    "\n",
    "## **PART 4 | Comparing snowfall accumulation output**\n",
    "\n",
    "Using any code from previous labs and our maps above, create a side-by-side map figure of snowfall accumulation for both runs.\n",
    "\n",
    "Hint: use the `build_figure()` function again\n",
    "\n",
    "<br>"
   ]
  },
  {
   "cell_type": "code",
   "execution_count": null,
   "metadata": {
    "colab": {
     "base_uri": "https://localhost:8080/",
     "height": 771
    },
    "executionInfo": {
     "elapsed": 2458,
     "status": "ok",
     "timestamp": 1729138421992,
     "user": {
      "displayName": "Jordan Christian",
      "userId": "12019586473093011462"
     },
     "user_tz": 300
    },
    "id": "9JEauw4KU1m6",
    "outputId": "db6e8a2b-8aef-435e-d5d5-1325502d5359"
   },
   "outputs": [],
   "source": [
    "###################################################################################\n",
    "# Make this figure completely on your own! Use previous code to help write\n",
    "# each code section\n",
    "\n",
    "# STEP 1 DECLARE THE VARIABLES WE NEED\n",
    "\n",
    "# ---- CONTROL SIMULATION ---- #\n",
    "# SNOWH variable provides snow depth\n",
    "?\n",
    "\n",
    "# ---- SENSITIVITY SIMULATION ---- #\n",
    "# SNOWH variable provides snow depth\n",
    "?\n",
    "\n",
    "###################################################################################\n",
    "\n",
    "\n",
    "###################################################################################\n",
    "# CREATE A RAINFALL COLORMAP\n",
    "?\n",
    "snow_cmap  = LinearSegmentedColormap.from_list('custom_cmap',['#FFFFFF','#bed7e7','#69aed5','#2c82bd','#024f9c','#022195',\n",
    "                                                              '#fefe96','#fec400','#fe8600'],N=256)\n",
    "###################################################################################\n",
    "\n",
    "\n",
    "###################################################################################\n",
    "# USE BUILD MAP FUNCTION\n",
    "?\n",
    "\n",
    "###################################################################################\n",
    "\n",
    "\n",
    "###################################################################################\n",
    "# PLOT DATA FOR SUBPLOT 1\n",
    "# ---- CONTROL SIMULATION ---- #\n",
    "?\n",
    "\n",
    "###################################################################################\n",
    "\n",
    "\n",
    "###################################################################################\n",
    "# PLOT DATA FOR SUBPLOT 2\n",
    "# ---- SENSITIVITY SIMULATION ---- #\n",
    "?\n",
    "\n",
    "###################################################################################"
   ]
  },
  {
   "cell_type": "code",
   "execution_count": null,
   "metadata": {},
   "outputs": [],
   "source": []
  }
 ],
 "metadata": {
  "colab": {
   "provenance": []
  },
  "kernelspec": {
   "display_name": "Python 3 (ipykernel)",
   "language": "python",
   "name": "python3"
  },
  "language_info": {
   "codemirror_mode": {
    "name": "ipython",
    "version": 3
   },
   "file_extension": ".py",
   "mimetype": "text/x-python",
   "name": "python",
   "nbconvert_exporter": "python",
   "pygments_lexer": "ipython3",
   "version": "3.10.13"
  }
 },
 "nbformat": 4,
 "nbformat_minor": 4
}
